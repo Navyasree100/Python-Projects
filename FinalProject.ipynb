{
 "cells": [
  {
   "cell_type": "code",
   "execution_count": 5,
   "id": "27a8e408",
   "metadata": {},
   "outputs": [
    {
     "name": "stdout",
     "output_type": "stream",
     "text": [
      "Total due: 175.0\n",
      "Total time: week\n"
     ]
    }
   ],
   "source": [
    "class Shop:\n",
    "    def __init__(self, num_scooters):\n",
    "        self.num_scooters = num_scooters\n",
    "        \n",
    "class Customer:\n",
    "    def __init__(self, num_scooters, time):\n",
    "        self.num_scooters = num_scooters\n",
    "        self.time = time\n",
    "        self.total_due = 0\n",
    "\n",
    "    def calculate_price(self):\n",
    "        hourly_rate = 5\n",
    "        daily_rate = 20\n",
    "        weekly_rate = 50\n",
    "        discount_rate = 0.3\n",
    "\n",
    "        if self.time == \"hour\":\n",
    "            total_due = self.num_scooters * hourly_rate\n",
    "            if self.num_scooters >= 3 and self.num_scooters <= 5:\n",
    "                total_due *= (1-discount_rate)\n",
    "            return total_due\n",
    " \n",
    "        elif self.time == \"day\":\n",
    "            total_due = self.num_scooters * daily_rate\n",
    "            if self.num_scooters >= 3 and self.num_scooters <= 5:\n",
    "                total_due *= (1-discount_rate)\n",
    "            return total_due\n",
    "\n",
    "        elif self.time == \"week\":\n",
    "            total_due = self.num_scooters * weekly_rate\n",
    "            if self.num_scooters >= 3 and self.num_scooters <= 5:\n",
    "                total_due *= (1-discount_rate)\n",
    "            return total_due\n",
    "\n",
    "        else:\n",
    "            return 0\n",
    "\n",
    "    def issue_invoice(self, shop):\n",
    "        if self.num_scooters <= shop.num_scooters:\n",
    "            self.total_due = self.calculate_price()\n",
    "            print(f\"Total due: {self.total_due}\")\n",
    "            print(f\"Total time: {self.time}\")\n",
    "\n",
    "        else:\n",
    "            print(\"Number of scooters requested exceeds the number of scooters available.\")\n",
    "            \n",
    "            \n",
    "\n",
    "if __name__ == \"__main__\":\n",
    "    shop = Shop(10)\n",
    "    customer = Customer(5, \"week\")\n",
    "    customer.issue_invoice(shop)"
   ]
  },
  {
   "cell_type": "code",
   "execution_count": null,
   "id": "b05b4fb5",
   "metadata": {},
   "outputs": [],
   "source": []
  }
 ],
 "metadata": {
  "kernelspec": {
   "display_name": "Python 3 (ipykernel)",
   "language": "python",
   "name": "python3"
  },
  "language_info": {
   "codemirror_mode": {
    "name": "ipython",
    "version": 3
   },
   "file_extension": ".py",
   "mimetype": "text/x-python",
   "name": "python",
   "nbconvert_exporter": "python",
   "pygments_lexer": "ipython3",
   "version": "3.9.13"
  }
 },
 "nbformat": 4,
 "nbformat_minor": 5
}
