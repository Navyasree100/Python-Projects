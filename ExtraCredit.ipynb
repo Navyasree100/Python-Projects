{
 "cells": [
  {
   "cell_type": "code",
   "execution_count": 4,
   "id": "1c52b626",
   "metadata": {},
   "outputs": [
    {
     "name": "stdout",
     "output_type": "stream",
     "text": [
      "Total due: 10\n",
      "Total time: day\n"
     ]
    }
   ],
   "source": [
    "class Library:\n",
    "    def __init__(self, num_books):\n",
    "        self.num_books = num_books\n",
    "        \n",
    "class Customer:\n",
    "    def __init__(self, num_books, time):\n",
    "        self.num_books = num_books\n",
    "        self.time = time\n",
    "        self.total_due = 0\n",
    "\n",
    "    def calculate_price(self):\n",
    "        hourly_rate = 1\n",
    "        daily_rate = 2\n",
    "        weekly_rate = 5\n",
    "        \n",
    "        if self.time == \"hour\" and self.num_books > 1:\n",
    "            total_due = self.num_books * hourly_rate\n",
    "            return total_due\n",
    "        \n",
    "        elif self.time == \"day\" and self.num_books > 1:   \n",
    "            total_due = self.num_books * daily_rate\n",
    "            return total_due\n",
    "\n",
    "        elif self.time == \"week\" and self.num_books > 1:  \n",
    "            total_due = self.num_books * weekly_rate\n",
    "            return total_due\n",
    "\n",
    "        else:\n",
    "            return 0\n",
    "        \n",
    "    def issue_invoice(self, library):\n",
    "        if self.num_books <= library.num_books:\n",
    "            self.total_due = self.calculate_price()\n",
    "            print(f\"Total due: {self.total_due}\")\n",
    "            print(f\"Total time: {self.time}\")\n",
    "\n",
    "        else:\n",
    "            print(\"Number of books requested exceeds the number of books available.\")\n",
    "            \n",
    "            \n",
    "\n",
    "if __name__ == \"__main__\":\n",
    "    library = Library(10)\n",
    "    customer = Customer(5, \"day\")\n",
    "    customer.issue_invoice(library)"
   ]
  },
  {
   "cell_type": "code",
   "execution_count": null,
   "id": "9f24a561",
   "metadata": {},
   "outputs": [],
   "source": []
  }
 ],
 "metadata": {
  "kernelspec": {
   "display_name": "Python 3 (ipykernel)",
   "language": "python",
   "name": "python3"
  },
  "language_info": {
   "codemirror_mode": {
    "name": "ipython",
    "version": 3
   },
   "file_extension": ".py",
   "mimetype": "text/x-python",
   "name": "python",
   "nbconvert_exporter": "python",
   "pygments_lexer": "ipython3",
   "version": "3.9.13"
  }
 },
 "nbformat": 4,
 "nbformat_minor": 5
}
